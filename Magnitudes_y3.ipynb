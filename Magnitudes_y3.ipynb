{
 "cells": [
  {
   "cell_type": "code",
   "execution_count": 2,
   "metadata": {},
   "outputs": [
    {
     "data": {
      "text/plain": [
       "['catalog', 'randoms', 'maps', 'regions', 'masks', 'index']"
      ]
     },
     "execution_count": 2,
     "metadata": {},
     "output_type": "execute_result"
    }
   ],
   "source": [
    "import h5py\n",
    "\n",
    "filename='/fs/scratch/cond0080/y3_catalogs/March16_2020/Y3_mastercat_03_31_20.h5'\n",
    "\n",
    "f = h5py.File(filename, 'r')\n",
    "\n",
    "# List all groups\n",
    "list(f.keys())"
   ]
  },
  {
   "cell_type": "code",
   "execution_count": 2,
   "metadata": {},
   "outputs": [
    {
     "data": {
      "text/plain": [
       "['metacal', 'gold', 'bpz', 'dnf', 'redmagic', 'redmapper', 'maglim', 'sompz']"
      ]
     },
     "execution_count": 2,
     "metadata": {},
     "output_type": "execute_result"
    }
   ],
   "source": [
    "# List all groups\n",
    "list(f.keys())\n",
    "dset = f['catalog/']\n",
    "list(dset.keys())"
   ]
  },
  {
   "cell_type": "code",
   "execution_count": 3,
   "metadata": {},
   "outputs": [
    {
     "data": {
      "text/plain": [
       "['a_sed_sfd98_g',\n",
       " 'a_sed_sfd98_i',\n",
       " 'a_sed_sfd98_r',\n",
       " 'a_sed_sfd98_z',\n",
       " 'coadd_object_id',\n",
       " 'dec',\n",
       " 'delta_mag_chrom_g',\n",
       " 'delta_mag_chrom_i',\n",
       " 'delta_mag_chrom_r',\n",
       " 'delta_mag_chrom_z',\n",
       " 'delta_mag_y4_g',\n",
       " 'delta_mag_y4_i',\n",
       " 'delta_mag_y4_r',\n",
       " 'delta_mag_y4_z',\n",
       " 'ebv_sfd98',\n",
       " 'extended_class_mash_sof',\n",
       " 'flags',\n",
       " 'flags_badregions',\n",
       " 'flags_footprint',\n",
       " 'flags_foreground',\n",
       " 'flags_gold',\n",
       " 'flags_phot',\n",
       " 'hpix_16384',\n",
       " 'n_images_g',\n",
       " 'n_images_i',\n",
       " 'n_images_r',\n",
       " 'n_images_z',\n",
       " 'ra',\n",
       " 'sextractor_flags_g',\n",
       " 'sextractor_flags_i',\n",
       " 'sextractor_flags_r',\n",
       " 'sextractor_flags_z',\n",
       " 'sof_cm_flux_corrected_g',\n",
       " 'sof_cm_flux_corrected_i',\n",
       " 'sof_cm_flux_corrected_r',\n",
       " 'sof_cm_flux_corrected_z',\n",
       " 'sof_cm_flux_err_g',\n",
       " 'sof_cm_flux_err_i',\n",
       " 'sof_cm_flux_err_r',\n",
       " 'sof_cm_flux_err_z',\n",
       " 'sof_cm_mag_corrected_g',\n",
       " 'sof_cm_mag_corrected_i',\n",
       " 'sof_cm_mag_corrected_r',\n",
       " 'sof_cm_mag_corrected_z',\n",
       " 'sof_cm_mag_err_g',\n",
       " 'sof_cm_mag_err_i',\n",
       " 'sof_cm_mag_err_r',\n",
       " 'sof_cm_mag_err_z',\n",
       " 'sof_flags',\n",
       " 'tilename']"
      ]
     },
     "execution_count": 3,
     "metadata": {},
     "output_type": "execute_result"
    }
   ],
   "source": [
    "# For now, let's consider only 'gold' which contains the photometry\n",
    "#golddset=dset['gold']\n",
    "golddset = f['catalog/gold/']\n",
    "list(golddset.keys())"
   ]
  },
  {
   "cell_type": "code",
   "execution_count": 2,
   "metadata": {},
   "outputs": [],
   "source": [
    "ra = f['catalog/gold/ra'][:]\n",
    "dec = f['catalog/gold/dec'][:]\n",
    "gmag = f['catalog/gold/sof_cm_mag_corrected_g'][:]\n",
    "rmag = f['catalog/gold/sof_cm_mag_corrected_r'][:]\n",
    "imag = f['catalog/gold/sof_cm_mag_corrected_i'][:]\n",
    "zmag = f['catalog/gold/sof_cm_mag_corrected_z'][:]\n",
    "flags_foreground = f['catalog/gold/flags_foreground'][:]\n",
    "flags_badregions = f['catalog/gold/flags_badregions'][:]\n",
    "flags_gold = f['catalog/gold/flags_gold'][:]\n",
    "flags_footprint = f['catalog/gold/flags_footprint'][:]"
   ]
  },
  {
   "cell_type": "code",
   "execution_count": 3,
   "metadata": {},
   "outputs": [
    {
     "name": "stdout",
     "output_type": "stream",
     "text": [
      "[45.00144133 44.99725347 44.9971163  ... 44.99832949 45.00159709\n",
      " 44.99958972]\n",
      "35549442\n",
      "[ 0.00370761  0.01044044  0.00944757 ... -0.00374518 -0.00214651\n",
      " -0.00241723]\n"
     ]
    }
   ],
   "source": [
    "#flags_foreground == 0\n",
    "#flags_badregions < 2\n",
    "#flags_gold < 8\n",
    "#flags_footprint == 1\n",
    "good = (flags_foreground == 0)&(flags_badregions < 2)&(flags_gold<8)&(flags_footprint == 1)&(gmag>0)&(rmag>0)&(imag>0)&(zmag>0)&(gmag<31)&(rmag<31)&(imag<31)&(zmag<31)\n",
    "\n",
    "#print(gmag[good].size)\n",
    "#print(gmag[good].min(), gmag[good].max())\n",
    "#print(ra[good].min(), ra[good].max())\n",
    "#print(dec[good].min(), dec[good].max())\n",
    "\n",
    "good_des=(ra<50)&(-10<dec)&(dec<5)&(good)\n",
    "print(ra[good_des])\n",
    "print(ra[good_des].size)\n",
    "print(dec[good_des])"
   ]
  },
  {
   "cell_type": "code",
   "execution_count": 8,
   "metadata": {},
   "outputs": [],
   "source": [
    "#goodg=gmag[good_des].copy() #new array that has only needed\n",
    "#goodr=rmag[good_des].copy()\n",
    "#goodi=imag[good_des].copy() \n",
    "#goodz=zmag[good_des].copy()"
   ]
  },
  {
   "cell_type": "code",
   "execution_count": 4,
   "metadata": {},
   "outputs": [
    {
     "data": {
      "image/png": "[encoded data removed]",
      "text/plain": [
       "<Figure size 432x288 with 2 Axes>"
      ]
     },
     "metadata": {},
     "output_type": "display_data"
    },
    {
     "data": {
      "image/png": "[encoded data removed]",
      "text/plain": [
       "<Figure size 432x288 with 1 Axes>"
      ]
     },
     "metadata": {},
     "output_type": "display_data"
    }
   ],
   "source": [
    "import matplotlib.pyplot as plt\n",
    "#from matplotlib.colors import LogNorm\n",
    "%matplotlib inline\n",
    "from matplotlib import colors\n",
    "\n",
    "plt.subplot(221)\n",
    "plt.hist(gmag[good_des]-rmag[good_des], 1000)\n",
    "plt.title('gr')\n",
    "plt.subplot(222)\n",
    "plt.hist(rmag[good_des]-imag[good_des], 1000)\n",
    "plt.title('ri')\n",
    "\n",
    "plt.figure()\n",
    "gr = gmag[good_des]-rmag[good_des]\n",
    "ri = rmag[good_des]-imag[good_des]\n",
    "\n",
    "plt.hist2d(gr,ri,bins=(1000,1000))\n",
    "#img = plt.hist2d(gr,ri,bins=(1000,1000))\n",
    "#plt.colorbar()\n",
    "\n",
    "plt.xlabel('g-r')\n",
    "plt.ylabel('r-i')\n",
    "plt.title('DES')\n",
    "plt.xlim(0,3.0)\n",
    "plt.ylim(0,1.6)\n",
    "\n",
    "plt.show()"
   ]
  },
  {
   "cell_type": "code",
   "execution_count": null,
   "metadata": {},
   "outputs": [],
   "source": []
  },
  {
   "cell_type": "code",
   "execution_count": null,
   "metadata": {},
   "outputs": [],
   "source": [
    "import matplotlib.pyplot as plt\n",
    "\n",
    "#plt.plot(ra, dec, 'k,')\n",
    "plt.subplot(221)\n",
    "plt.hist(gmag[good_des], 1000)\n",
    "plt.title('g')\n",
    "plt.subplot(222)\n",
    "plt.hist(rmag[good_des], 1000)\n",
    "plt.title('r')\n",
    "plt.subplot(223)\n",
    "plt.hist(imag[good_des],1000)\n",
    "plt.title('i')\n",
    "plt.subplot(224)\n",
    "plt.hist(zmag[good_des],1000)\n",
    "plt.title('z')\n",
    "\n",
    "plt.figure()\n",
    "plt.hist(rmag[good_des], 1000)\n",
    "plt.show()"
   ]
  },
  {
   "cell_type": "code",
   "execution_count": 18,
   "metadata": {},
   "outputs": [
    {
     "data": {
      "image/png": "[encoded data removed]",
      "text/plain": [
       "<Figure size 432x288 with 1 Axes>"
      ]
     },
     "metadata": {},
     "output_type": "display_data"
    }
   ],
   "source": [
    "#plt.figure()\n",
    "#gr = gmag[good]-rmag[good]\n",
    "#ri = rmag[good]-imag[good]\n",
    "#plt.plot(gr, ri, 'k,' )\n",
    "#plt.xlabel('g-r')\n",
    "#plt.ylabel('r-i')\n",
    "#plt.xlim(0.3,5.7)\n",
    "#plt.ylim(0.2,4.0)\n",
    "#plt.show()"
   ]
  },
  {
   "cell_type": "code",
   "execution_count": 6,
   "metadata": {},
   "outputs": [
    {
     "data": {
      "image/png": "[encoded data removed]",
      "text/plain": [
       "<Figure size 432x288 with 1 Axes>"
      ]
     },
     "metadata": {},
     "output_type": "display_data"
    }
   ],
   "source": [
    "plt.figure()\n",
    "plt.hist(gr,30)\n",
    "plt.show()"
   ]
  },
  {
   "cell_type": "code",
   "execution_count": 7,
   "metadata": {},
   "outputs": [],
   "source": [
    "import astropy.io.fits as fits\n",
    "\n",
    "fitsfile = '/users/PCON0003/cond0080/cats/DATA_CMASS/galaxy_DR12v5_CMASS_South.fits'\n",
    "hdu = fits.open(fitsfile)"
   ]
  },
  {
   "cell_type": "code",
   "execution_count": 11,
   "metadata": {},
   "outputs": [
    {
     "name": "stdout",
     "output_type": "stream",
     "text": [
      "Filename: /users/PCON0003/cond0080/cats/DATA_CMASS/galaxy_DR12v5_CMASS_South.fits\n",
      "No.    Name      Ver    Type      Cards   Dimensions   Format\n",
      "  0  PRIMARY       1 PrimaryHDU       6   ()      \n",
      "  1                1 BinTableHDU     92   230831R x 42C   [D, D, J, 12A, J, J, J, J, J, J, 5E, 5E, 5E, 5E, 5E, 5E, 5E, 5E, 5E, E, 5E, E, 5E, J, E, E, E, E, E, E, E, E, E, J, J, J, J, 3I, J, J, J, J]   \n"
     ]
    }
   ],
   "source": [
    "hdu.info()"
   ]
  },
  {
   "cell_type": "code",
   "execution_count": 13,
   "metadata": {},
   "outputs": [
    {
     "data": {
      "text/plain": [
       "XTENSION= 'BINTABLE'           / binary table extension                         \n",
       "BITPIX  =                    8 / 8-bit bytes                                    \n",
       "NAXIS   =                    2 / 2-dimensional binary table                     \n",
       "NAXIS1  =                  362 / width of table in bytes                        \n",
       "NAXIS2  =               230831 / number of rows in table                        \n",
       "PCOUNT  =                    0 / size of special data area                      \n",
       "GCOUNT  =                    1 / one data group (required keyword)              \n",
       "TFIELDS =                   42 / number of fields in each row                   \n",
       "TTYPE1  = 'RA      '           / label for field   1                            \n",
       "TFORM1  = 'D       '           / data format of field: 8-byte DOUBLE            \n",
       "TTYPE2  = 'DEC     '           / label for field   2                            \n",
       "TFORM2  = 'D       '           / data format of field: 8-byte DOUBLE            \n",
       "TTYPE3  = 'RUN     '           / label for field   3                            \n",
       "TFORM3  = 'J       '           / data format of field: 4-byte INTEGER           \n",
       "TTYPE4  = 'RERUN   '           / label for field   4                            \n",
       "TFORM4  = '12A     '           / data format of field: ASCII Character          \n",
       "TTYPE5  = 'CAMCOL  '           / label for field   5                            \n",
       "TFORM5  = 'J       '           / data format of field: 4-byte INTEGER           \n",
       "TTYPE6  = 'FIELD   '           / label for field   6                            \n",
       "TFORM6  = 'J       '           / data format of field: 4-byte INTEGER           \n",
       "TTYPE7  = 'ID      '           / label for field   7                            \n",
       "TFORM7  = 'J       '           / data format of field: 4-byte INTEGER           \n",
       "TTYPE8  = 'ICHUNK  '           / label for field   8                            \n",
       "TFORM8  = 'J       '           / data format of field: 4-byte INTEGER           \n",
       "TTYPE9  = 'IPOLY   '           / label for field   9                            \n",
       "TFORM9  = 'J       '           / data format of field: 4-byte INTEGER           \n",
       "TTYPE10 = 'ISECT   '           / label for field  10                            \n",
       "TFORM10 = 'J       '           / data format of field: 4-byte INTEGER           \n",
       "TTYPE11 = 'FRACPSF '           / label for field  11                            \n",
       "TFORM11 = '5E      '           / data format of field: 4-byte REAL              \n",
       "TTYPE12 = 'EXPFLUX '           / label for field  12                            \n",
       "TFORM12 = '5E      '           / data format of field: 4-byte REAL              \n",
       "TTYPE13 = 'DEVFLUX '           / label for field  13                            \n",
       "TFORM13 = '5E      '           / data format of field: 4-byte REAL              \n",
       "TTYPE14 = 'PSFFLUX '           / label for field  14                            \n",
       "TFORM14 = '5E      '           / data format of field: 4-byte REAL              \n",
       "TTYPE15 = 'MODELFLUX'          / label for field  15                            \n",
       "TFORM15 = '5E      '           / data format of field: 4-byte REAL              \n",
       "TTYPE16 = 'FIBER2FLUX'         / label for field  16                            \n",
       "TFORM16 = '5E      '           / data format of field: 4-byte REAL              \n",
       "TTYPE17 = 'R_DEV   '           / label for field  17                            \n",
       "TFORM17 = '5E      '           / data format of field: 4-byte REAL              \n",
       "TTYPE18 = 'EXTINCTION'         / label for field  18                            \n",
       "TFORM18 = '5E      '           / data format of field: 4-byte REAL              \n",
       "TTYPE19 = 'PSF_FWHM'           / label for field  19                            \n",
       "TFORM19 = '5E      '           / data format of field: 4-byte REAL              \n",
       "TTYPE20 = 'AIRMASS '           / label for field  20                            \n",
       "TFORM20 = 'E       '           / data format of field: 4-byte REAL              \n",
       "TTYPE21 = 'SKYFLUX '           / label for field  21                            \n",
       "TFORM21 = '5E      '           / data format of field: 4-byte REAL              \n",
       "TTYPE22 = 'EB_MINUS_V'         / label for field  22                            \n",
       "TFORM22 = 'E       '           / data format of field: 4-byte REAL              \n",
       "TTYPE23 = 'IMAGE_DEPTH'        / label for field  23                            \n",
       "TFORM23 = '5E      '           / data format of field: 4-byte REAL              \n",
       "TTYPE24 = 'IMATCH  '           / label for field  24                            \n",
       "TFORM24 = 'J       '           / data format of field: 4-byte INTEGER           \n",
       "TTYPE25 = 'Z       '           / label for field  25                            \n",
       "TFORM25 = 'E       '           / data format of field: 4-byte REAL              \n",
       "TTYPE26 = 'WEIGHT_FKP'         / label for field  26                            \n",
       "TFORM26 = 'E       '           / data format of field: 4-byte REAL              \n",
       "TTYPE27 = 'WEIGHT_CP'          / label for field  27                            \n",
       "TFORM27 = 'E       '           / data format of field: 4-byte REAL              \n",
       "TTYPE28 = 'WEIGHT_NOZ'         / label for field  28                            \n",
       "TFORM28 = 'E       '           / data format of field: 4-byte REAL              \n",
       "TTYPE29 = 'WEIGHT_STAR'        / label for field  29                            \n",
       "TFORM29 = 'E       '           / data format of field: 4-byte REAL              \n",
       "TTYPE30 = 'WEIGHT_SEEING'      / label for field  30                            \n",
       "TFORM30 = 'E       '           / data format of field: 4-byte REAL              \n",
       "TTYPE31 = 'WEIGHT_SYSTOT'      / label for field  31                            \n",
       "TFORM31 = 'E       '           / data format of field: 4-byte REAL              \n",
       "TTYPE32 = 'NZ      '           / label for field  32                            \n",
       "TFORM32 = 'E       '           / data format of field: 4-byte REAL              \n",
       "TTYPE33 = 'COMP    '           / label for field  33                            \n",
       "TFORM33 = 'E       '           / data format of field: 4-byte REAL              \n",
       "TTYPE34 = 'PLATE   '           / label for field  34                            \n",
       "TFORM34 = 'J       '           / data format of field: 4-byte INTEGER           \n",
       "TTYPE35 = 'FIBERID '           / label for field  35                            \n",
       "TFORM35 = 'J       '           / data format of field: 4-byte INTEGER           \n",
       "TTYPE36 = 'MJD     '           / label for field  36                            \n",
       "TFORM36 = 'J       '           / data format of field: 4-byte INTEGER           \n",
       "TTYPE37 = 'FINALN  '           / label for field  37                            \n",
       "TFORM37 = 'J       '           / data format of field: 4-byte INTEGER           \n",
       "TTYPE38 = 'TILE    '           / label for field  38                            \n",
       "TFORM38 = '3I      '           / data format of field: 2-byte INTEGER           \n",
       "TTYPE39 = 'SPECTILE'           / label for field  39                            \n",
       "TFORM39 = 'J       '           / data format of field: 4-byte INTEGER           \n",
       "TTYPE40 = 'ICOLLIDED'          / label for field  40                            \n",
       "TFORM40 = 'J       '           / data format of field: 4-byte INTEGER           \n",
       "TTYPE41 = 'INGROUP '           / label for field  41                            \n",
       "TFORM41 = 'J       '           / data format of field: 4-byte INTEGER           \n",
       "TTYPE42 = 'MULTGROUP'          / label for field  42                            \n",
       "TFORM42 = 'J       '           / data format of field: 4-byte INTEGER           "
      ]
     },
     "execution_count": 13,
     "metadata": {},
     "output_type": "execute_result"
    }
   ],
   "source": [
    "hdu[1].header"
   ]
  },
  {
   "cell_type": "code",
   "execution_count": 8,
   "metadata": {},
   "outputs": [
    {
     "name": "stdout",
     "output_type": "stream",
     "text": [
      "9.090665651001473e-05 359.9981667713886\n",
      "-10.9925876282706 36.2367537699138\n"
     ]
    }
   ],
   "source": [
    "cmass_ra = hdu[1].data['RA']\n",
    "cmass_dec = hdu[1].data['DEC']\n",
    "cmass_z = hdu[1].data['Z']\n",
    "print(cmass_ra.min(), cmass_ra.max())\n",
    "print(cmass_dec.min(), cmass_dec.max())"
   ]
  },
  {
   "cell_type": "code",
   "execution_count": 9,
   "metadata": {},
   "outputs": [
    {
     "data": {
      "image/png": "[encoded data removed]",
      "text/plain": [
       "<Figure size 432x288 with 1 Axes>"
      ]
     },
     "metadata": {},
     "output_type": "display_data"
    },
    {
     "data": {
      "image/png": "[encoded data removed]",
      "text/plain": [
       "<Figure size 432x288 with 1 Axes>"
      ]
     },
     "metadata": {},
     "output_type": "display_data"
    }
   ],
   "source": [
    "import matplotlib.pyplot as plt\n",
    "plt.hist(cmass_z,30)\n",
    "plt.xlabel('redshift')\n",
    "plt.figure()\n",
    "plt.plot(cmass_ra, cmass_dec,'k,')\n",
    "plt.show()"
   ]
  },
  {
   "cell_type": "code",
   "execution_count": 12,
   "metadata": {},
   "outputs": [
    {
     "name": "stdout",
     "output_type": "stream",
     "text": [
      "[ 21291  21291  21291 ... 226144 226144 226144]\n"
     ]
    }
   ],
   "source": [
    "# Matching catalogs\n",
    "from astropy.coordinates import SkyCoord\n",
    "from astropy import units as u\n",
    "c = SkyCoord(ra=ra*u.degree, dec=dec*u.degree)\n",
    "catalog = SkyCoord(ra=cmass_ra*u.degree, dec=cmass_dec*u.degree)\n",
    "idx, d2d, d3d = c.match_to_catalog_sky(catalog)\n",
    "print(idx)"
   ]
  },
  {
   "cell_type": "code",
   "execution_count": 25,
   "metadata": {},
   "outputs": [
    {
     "name": "stdout",
     "output_type": "stream",
     "text": [
      "[45.00144133 44.99725347 44.9971163  ... 39.1294789  39.13307359\n",
      " 39.14297997]\n",
      "760103\n",
      "[3.70761157e-03 1.04404433e-02 9.44756779e-03 ... 4.99818060e+00\n",
      " 4.99924734e+00 4.99760915e+00]\n"
     ]
    }
   ],
   "source": [
    "good_des=(ra<50)&(-10<dec)&(dec<5)&(good)\n",
    "print(ra[good_des])\n",
    "print(ra[good_des].size)\n",
    "print(dec[good_des])"
   ]
  },
  {
   "cell_type": "code",
   "execution_count": null,
   "metadata": {},
   "outputs": [],
   "source": [
    "#goodra=ra[good_des].copy() #new array that has only needed\n",
    "#gooddec=dec[good_des].copy()"
   ]
  },
  {
   "cell_type": "code",
   "execution_count": 1,
   "metadata": {},
   "outputs": [
    {
     "ename": "NameError",
     "evalue": "name 'f' is not defined",
     "output_type": "error",
     "traceback": [
      "\u001b[0;31m---------------------------------------------------------------------------\u001b[0m",
      "\u001b[0;31mNameError\u001b[0m                                 Traceback (most recent call last)",
      "\u001b[0;32m<ipython-input-1-c90755177ddf>\u001b[0m in \u001b[0;36m<module>\u001b[0;34m()\u001b[0m\n\u001b[1;32m      4\u001b[0m \u001b[0;32mimport\u001b[0m \u001b[0mnumpy\u001b[0m \u001b[0;32mas\u001b[0m \u001b[0mnp\u001b[0m\u001b[0;34m\u001b[0m\u001b[0m\n\u001b[1;32m      5\u001b[0m \u001b[0;32mfrom\u001b[0m \u001b[0mastropy\u001b[0m\u001b[0;34m.\u001b[0m\u001b[0mio\u001b[0m \u001b[0;32mimport\u001b[0m \u001b[0mfits\u001b[0m\u001b[0;34m\u001b[0m\u001b[0m\n\u001b[0;32m----> 6\u001b[0;31m \u001b[0mdata\u001b[0m\u001b[0;34m=\u001b[0m\u001b[0mf\u001b[0m\u001b[0;34m\u001b[0m\u001b[0m\n\u001b[0m\u001b[1;32m      7\u001b[0m \u001b[0mhdu\u001b[0m\u001b[0;34m=\u001b[0m\u001b[0mfits\u001b[0m\u001b[0;34m.\u001b[0m\u001b[0mPrimaryHDU\u001b[0m\u001b[0;34m(\u001b[0m\u001b[0mdata\u001b[0m\u001b[0;34m=\u001b[0m\u001b[0mdata\u001b[0m\u001b[0;34m)\u001b[0m\u001b[0;34m\u001b[0m\u001b[0m\n\u001b[1;32m      8\u001b[0m \u001b[0;34m\u001b[0m\u001b[0m\n",
      "\u001b[0;31mNameError\u001b[0m: name 'f' is not defined"
     ]
    }
   ],
   "source": [
    "#array converted to fits file:\n",
    "\n",
    "import os\n",
    "import numpy as np\n",
    "from astropy.io import fits\n",
    "data=matched\n",
    "hdu=fits.PrimaryHDU(data=data)\n",
    "\n",
    "hdu.writeto('large.fits')\n"
   ]
  },
  {
   "cell_type": "markdown",
   "metadata": {},
   "source": []
  }
 ],
 "metadata": {
  "kernelspec": {
   "display_name": "Python 3.6 (Conda 5.2) [python/3.6-conda5.2]",
   "language": "python",
   "name": "sys_python36conda"
  },
  "language_info": {
   "codemirror_mode": {
    "name": "ipython",
    "version": 3
   },
   "file_extension": ".py",
   "mimetype": "text/x-python",
   "name": "python",
   "nbconvert_exporter": "python",
   "pygments_lexer": "ipython3",
   "version": "3.6.6"
  }
 },
 "nbformat": 4,
 "nbformat_minor": 2
}
