{
 "cells": [
  {
   "cell_type": "code",
   "execution_count": 1,
   "metadata": {},
   "outputs": [
    {
     "name": "stdout",
     "output_type": "stream",
     "text": [
      "('num of cmass in des side', 56335, '(30%)')\n"
     ]
    }
   ],
   "source": [
    "#import all necessary items from Su's code:\n",
    "#from xd import *\n",
    "#from utils import *\n",
    "import esutil, yaml, sys, os, argparse\n",
    "import healpy as hp\n",
    "#from systematics import *\n",
    "import warnings\n",
    "warnings.filterwarnings(\"ignore\", category=DeprecationWarning)\n",
    "import numpy as np\n",
    "import astropy.io.fits as fits\n",
    "\n",
    "#opening CMASS catalog:\n",
    "fitsfile='/fs/scratch/cond0080/galaxy_DR11v1_CMASS_South-photoObj.fits'\n",
    "hdu=fits.open(fitsfile)\n",
    "\n",
    "import h5py\n",
    "\n",
    "#opening DES catalog:\n",
    "filename='/fs/scratch/PCON0003/warner785/Y3_mastercat_03_31_20.h5'\n",
    "f=h5py.File(filename,'r')\n",
    "\n",
    "#read in values:\n",
    "modelmag_g_des=f['catalog/gold/sof_cm_mag_corrected_g'][:]\n",
    "modelmag_r_des=f['catalog/gold/sof_cm_mag_corrected_r'][:]\n",
    "modelmag_i_des=f['catalog/gold/sof_cm_mag_corrected_i'][:]\n",
    "\n",
    "'''\n",
    "magmodel=hdu[1].data['CMODELMAG']\n",
    "cmodelmag_g_des=magmodel[:,0]\n",
    "cmodelmag_r_des=magmodel[:,1]\n",
    "cmodelmag_i_des=magmodel[:,2]\n",
    "'''\n",
    "\n",
    "cmodelmag_g_des=modelmag_g_des\n",
    "cmodelmag_r_des=modelmag_r_des\n",
    "cmodelmag_i_des=modelmag_i_des\n",
    "magauto_des=modelmag_i_des\n",
    "\n",
    "\n",
    "#defining the cut:\n",
    "\n",
    "cut = (((cmodelmag_r_des>16)&(cmodelmag_r_des<24))&((cmodelmag_i_des>16)&(cmodelmag_i_des<24))&((cmodelmag_g_des>16)&(cmodelmag_g_des<24))&((modelmag_r_des-modelmag_i_des)<1.5)&((modelmag_r_des-modelmag_i_des)>0.)&((modelmag_g_des-modelmag_r_des)>0.)&((modelmag_g_des-modelmag_r_des)<2.5)&(magauto_des<21.5))\n",
    "\n",
    "#matching catalogs (train_st82):\n",
    "'''\n",
    "#Su's flags and color cut:\n",
    "mask_all=cut\n",
    "f'=f[cut]\n",
    "train_sample=fitsfile\n",
    "#print('total num of train', len(train_sample))\n",
    "'''\n",
    "#reading in needed values:\n",
    "cmass_ra=hdu[1].data['RA     ']\n",
    "cmass_dec=hdu[1].data['DEC    ']\n",
    "ra=f['catalog/gold/ra'][:][cut]\n",
    "dec=f['catalog/gold/dec'][:][cut]\n",
    "\n",
    "mg1, mg2,_= esutil.htm.HTM(10).match(cmass_ra, cmass_dec, ra, dec, 2./3600, maxmatch=1)\n",
    "\n",
    "cmass_mask=np.zeros(ra.size, dtype=bool)\n",
    "cmass_mask[mg2]=1\n",
    "clean_cmass_data_des_ra, nocmass_ra=ra[cmass_mask], ra[~cmass_mask]\n",
    "clean_cmass_data_des_dec, nocmass_dec=dec[cmass_mask], dec[~cmass_mask]\n",
    "\n",
    "print(('num of cmass in des side', clean_cmass_data_des_ra.size, '({:0.0f}%)'.format(clean_cmass_data_des_ra.size*1./cmass_ra.size*100.)))\n",
    "\n"
   ]
  },
  {
   "cell_type": "code",
   "execution_count": 6,
   "metadata": {},
   "outputs": [
    {
     "ename": "IndexError",
     "evalue": "boolean index did not match indexed array along dimension 0; dimension is 188582 but corresponding boolean dimension is 399263026",
     "output_type": "error",
     "traceback": [
      "\u001b[0;31m---------------------------------------------------------------------------\u001b[0m",
      "\u001b[0;31mIndexError\u001b[0m                                Traceback (most recent call last)",
      "\u001b[0;32m<ipython-input-6-b1ac8fc1fc88>\u001b[0m in \u001b[0;36m<module>\u001b[0;34m\u001b[0m\n\u001b[1;32m     40\u001b[0m \u001b[0mcmodelmag_i_des\u001b[0m\u001b[0;34m=\u001b[0m\u001b[0mmagmodel\u001b[0m\u001b[0;34m[\u001b[0m\u001b[0;34m:\u001b[0m\u001b[0;34m,\u001b[0m\u001b[0;36m2\u001b[0m\u001b[0;34m]\u001b[0m\u001b[0;34m\u001b[0m\u001b[0;34m\u001b[0m\u001b[0m\n\u001b[1;32m     41\u001b[0m \u001b[0;34m\u001b[0m\u001b[0m\n\u001b[0;32m---> 42\u001b[0;31m \u001b[0mcgr\u001b[0m\u001b[0;34m=\u001b[0m\u001b[0mcmodelmag_g_des\u001b[0m\u001b[0;34m[\u001b[0m\u001b[0mcut\u001b[0m\u001b[0;34m]\u001b[0m\u001b[0;34m[\u001b[0m\u001b[0mgood\u001b[0m\u001b[0;34m]\u001b[0m\u001b[0;34m-\u001b[0m\u001b[0mcmodelmag_r_des\u001b[0m\u001b[0;34m[\u001b[0m\u001b[0mcut\u001b[0m\u001b[0;34m]\u001b[0m\u001b[0;34m[\u001b[0m\u001b[0mgood\u001b[0m\u001b[0;34m]\u001b[0m\u001b[0;34m\u001b[0m\u001b[0;34m\u001b[0m\u001b[0m\n\u001b[0m\u001b[1;32m     43\u001b[0m \u001b[0mcri\u001b[0m\u001b[0;34m=\u001b[0m\u001b[0mcmodelmag_r_des\u001b[0m\u001b[0;34m[\u001b[0m\u001b[0mcut\u001b[0m\u001b[0;34m]\u001b[0m\u001b[0;34m[\u001b[0m\u001b[0mgood\u001b[0m\u001b[0;34m]\u001b[0m\u001b[0;34m-\u001b[0m\u001b[0mcmodelmag_i_des\u001b[0m\u001b[0;34m[\u001b[0m\u001b[0mcut\u001b[0m\u001b[0;34m]\u001b[0m\u001b[0;34m[\u001b[0m\u001b[0mgood\u001b[0m\u001b[0;34m]\u001b[0m\u001b[0;34m\u001b[0m\u001b[0;34m\u001b[0m\u001b[0m\n\u001b[1;32m     44\u001b[0m \u001b[0;34m\u001b[0m\u001b[0m\n",
      "\u001b[0;31mIndexError\u001b[0m: boolean index did not match indexed array along dimension 0; dimension is 188582 but corresponding boolean dimension is 399263026"
     ]
    },
    {
     "data": {
      "image/png": "[encoded data removed]",
      "text/plain": [
       "<Figure size 432x288 with 2 Axes>"
      ]
     },
     "metadata": {
      "needs_background": "light"
     },
     "output_type": "display_data"
    }
   ],
   "source": [
    "\n",
    "#visualizing the map of location overlap:\n",
    "import matplotlib\n",
    "#matplotlib.use('TkAgg')\n",
    "import matplotlib.pyplot as plt\n",
    "import numpy as np\n",
    "\n",
    "\n",
    "plt.plot(clean_cmass_data_des_ra, clean_cmass_data_des_dec,'k.')\n",
    "#plt.plot(ra,dec,'r.')\n",
    "plt.title('Overlap of DES and CMASS')\n",
    "#plt.xlim(0,3.0)\n",
    "#plt.ylim(0,1.6)\n",
    "#plt.show()\n",
    "\n",
    "#creating figure 1 from Su's paper:\n",
    "\n",
    "flags_foreground=f['catalog/gold/flags_foreground'][:]\n",
    "flags_badregions=f['catalog/gold/flags_badregions'][:]\n",
    "flags_gold=f['catalog/gold/flags_gold'][:]\n",
    "flags_footprint=f['catalog/gold/flags_footprint'][:]\n",
    "\n",
    "#good=(flags_foreground[cut]==0)&(flags_badregions[cut]<2)&(flags_gold[cut]<8)&(flags_footprint[cut]==1)&(cmass_mask)\n",
    "good=cmass_mask\n",
    "\n",
    "#%matplotlib inline\n",
    "from matplotlib import colors\n",
    "\n",
    "plt.subplot(221)\n",
    "plt.hist(modelmag_g_des[cut][good]-modelmag_r_des[cut][good],1000)\n",
    "plt.title('gr')\n",
    "plt.subplot(222)\n",
    "plt.hist(modelmag_r_des[cut][good]-modelmag_i_des[cut][good],1000)\n",
    "plt.title('ri')\n",
    "\n",
    "#BOSS magnitudes:\n",
    "magmodel=hdu[1].data['CMODELMAG']\n",
    "cmodelmag_g_des=magmodel[:,0]\n",
    "cmodelmag_r_des=magmodel[:,1]\n",
    "cmodelmag_i_des=magmodel[:,2]\n",
    "\n",
    "cgr=cmodelmag_g_des[cut][good]-cmodelmag_r_des[cut][good]\n",
    "cri=cmodelmag_r_des[cut][good]-cmodelmag_i_des[cut][good]\n",
    "\n",
    "plt.hist2d(cgr,cri,bins=(1000,1000))\n",
    "cmap=plt.cm.jet\n",
    "plt.colorbar()\n",
    "\n",
    "# d_perp cut:\n",
    "d_perp=cri-(cgr/8.0)\n",
    "\n",
    "plt.xlabel('g-r')\n",
    "plt.ylabel('r-i')\n",
    "plt.title('BOSS')\n",
    "plt.xlim(0,3.0)\n",
    "plt.ylim(0,1.6)\n",
    "plt.show()\n",
    "\n",
    "#matched DES magnitudes:\n",
    "plt.figure()\n",
    "gr=modelmag_g_des[good]-modelmag_r_des[good]\n",
    "ri=modelmag_r_des[good]-modelmag_i_des[good]\n",
    "\n",
    "plt.hist2d(gr,ri,bins=(1000,1000))\n",
    "cmap=plt.cm.jet\n",
    "plt.colorbar()\n",
    "\n",
    "plt.xlabel('g-r')\n",
    "plt.ylabel('r-i')\n",
    "plt.title('DES')\n",
    "plt.xlim(0,3.0)\n",
    "plt.ylim(0,1.6)\n",
    "plt.show()"
   ]
  },
  {
   "cell_type": "code",
   "execution_count": null,
   "metadata": {},
   "outputs": [],
   "source": []
  }
 ],
 "metadata": {
  "kernelspec": {
   "display_name": "Python (py3)",
   "language": "python",
   "name": "py3"
  },
  "language_info": {
   "codemirror_mode": {
    "name": "ipython",
    "version": 3
   },
   "file_extension": ".py",
   "mimetype": "text/x-python",
   "name": "python",
   "nbconvert_exporter": "python",
   "pygments_lexer": "ipython3",
   "version": "3.7.6"
  }
 },
 "nbformat": 4,
 "nbformat_minor": 4
}
